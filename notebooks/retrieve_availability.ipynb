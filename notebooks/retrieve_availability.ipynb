{
 "cells": [
  {
   "cell_type": "code",
   "execution_count": 102,
   "id": "e096aeb3",
   "metadata": {},
   "outputs": [],
   "source": [
    "from datetime import datetime\n",
    "from uuid import uuid4\n",
    "\n",
    "from bs4 import BeautifulSoup\n",
    "import pandas as pd\n",
    "from pathlib import Path\n",
    "import requests"
   ]
  },
  {
   "cell_type": "code",
   "execution_count": 2,
   "id": "c221a778",
   "metadata": {},
   "outputs": [],
   "source": [
    "url = \"https://www.blm.gov/or/resources/recreation/rogue/rogue_river.php\""
   ]
  },
  {
   "cell_type": "code",
   "execution_count": 98,
   "id": "76a5cbe5",
   "metadata": {},
   "outputs": [],
   "source": [
    "dir_prj = Path.cwd().parent\n",
    "dir_data = dir_prj / 'data'\n",
    "dir_raw = dir_data / 'raw'\n",
    "\n",
    "out_dir = dir_raw / 'rogue_retrieved_availability'"
   ]
  },
  {
   "cell_type": "code",
   "execution_count": 95,
   "id": "37178eed",
   "metadata": {},
   "outputs": [],
   "source": [
    "def get_row_values(tr):\n",
    "    td_lst = tr.find_all('td')\n",
    "    td_val_lst = [td.decode_contents() for td in td_lst]\n",
    "    return td_val_lst\n",
    "\n",
    "def get_table_values(tbl):\n",
    "    val_lst = [get_row_values(tr) for tr in tbl.find_all('tr')]\n",
    "    val_lst = [r for r in val_lst if len(r) == 3]\n",
    "    val_lst = [r for r in val_lst if r != ['Day', 'Date', 'Spaces']]\n",
    "    return val_lst\n",
    "\n",
    "def process_table(tbl):\n",
    "\n",
    "    mth_str = tbl.find('th').decode_contents()\n",
    "    \n",
    "    row_lst = get_table_values(tbl_lst[0])\n",
    "\n",
    "    out_lst = [[datetime.strptime(f'{int(r[1]):02d} {mth_str} {yr}', '%d %B %Y').date().isoformat(), r[2]] for r in row_lst]\n",
    "    \n",
    "    out_df = pd.DataFrame(out_lst, columns=['launch_date', 'available_user_days'])\n",
    "    \n",
    "    return out_df"
   ]
  },
  {
   "cell_type": "code",
   "execution_count": 3,
   "id": "bc566c05",
   "metadata": {},
   "outputs": [
    {
     "data": {
      "text/plain": [
       "<Response [200]>"
      ]
     },
     "execution_count": 3,
     "metadata": {},
     "output_type": "execute_result"
    }
   ],
   "source": [
    "res = requests.get(url)\n",
    "\n",
    "res"
   ]
  },
  {
   "cell_type": "code",
   "execution_count": 4,
   "id": "e4b370ae",
   "metadata": {},
   "outputs": [],
   "source": [
    "soup = BeautifulSoup(res.text, 'html.parser')"
   ]
  },
  {
   "cell_type": "code",
   "execution_count": 5,
   "id": "55d4b923",
   "metadata": {},
   "outputs": [],
   "source": [
    "tbl_lst = [tbl for tbl in soup.find_all('table') if tbl.attrs['summary'].startswith(\"Available Float Space Openings\")]"
   ]
  },
  {
   "cell_type": "code",
   "execution_count": 68,
   "id": "6ec89373",
   "metadata": {},
   "outputs": [
    {
     "data": {
      "text/plain": [
       "2023"
      ]
     },
     "execution_count": 68,
     "metadata": {},
     "output_type": "execute_result"
    }
   ],
   "source": [
    "today = datetime.today()\n",
    "yr = today.year\n",
    "\n",
    "yr"
   ]
  },
  {
   "cell_type": "code",
   "execution_count": 96,
   "id": "bd39fdc2",
   "metadata": {},
   "outputs": [
    {
     "data": {
      "text/html": [
       "<div>\n",
       "<style scoped>\n",
       "    .dataframe tbody tr th:only-of-type {\n",
       "        vertical-align: middle;\n",
       "    }\n",
       "\n",
       "    .dataframe tbody tr th {\n",
       "        vertical-align: top;\n",
       "    }\n",
       "\n",
       "    .dataframe thead th {\n",
       "        text-align: right;\n",
       "    }\n",
       "</style>\n",
       "<table border=\"1\" class=\"dataframe\">\n",
       "  <thead>\n",
       "    <tr style=\"text-align: right;\">\n",
       "      <th></th>\n",
       "      <th>launch_date</th>\n",
       "      <th>available_user_days</th>\n",
       "    </tr>\n",
       "  </thead>\n",
       "  <tbody>\n",
       "    <tr>\n",
       "      <th>0</th>\n",
       "      <td>2023-05-15</td>\n",
       "      <td>73</td>\n",
       "    </tr>\n",
       "    <tr>\n",
       "      <th>1</th>\n",
       "      <td>2023-05-16</td>\n",
       "      <td>79</td>\n",
       "    </tr>\n",
       "    <tr>\n",
       "      <th>2</th>\n",
       "      <td>2023-05-17</td>\n",
       "      <td>35</td>\n",
       "    </tr>\n",
       "    <tr>\n",
       "      <th>3</th>\n",
       "      <td>2023-05-18</td>\n",
       "      <td>21</td>\n",
       "    </tr>\n",
       "    <tr>\n",
       "      <th>4</th>\n",
       "      <td>2023-05-19</td>\n",
       "      <td>7</td>\n",
       "    </tr>\n",
       "    <tr>\n",
       "      <th>5</th>\n",
       "      <td>2023-05-20</td>\n",
       "      <td>26</td>\n",
       "    </tr>\n",
       "    <tr>\n",
       "      <th>0</th>\n",
       "      <td>2023-06-15</td>\n",
       "      <td>73</td>\n",
       "    </tr>\n",
       "    <tr>\n",
       "      <th>1</th>\n",
       "      <td>2023-06-16</td>\n",
       "      <td>79</td>\n",
       "    </tr>\n",
       "    <tr>\n",
       "      <th>2</th>\n",
       "      <td>2023-06-17</td>\n",
       "      <td>35</td>\n",
       "    </tr>\n",
       "    <tr>\n",
       "      <th>3</th>\n",
       "      <td>2023-06-18</td>\n",
       "      <td>21</td>\n",
       "    </tr>\n",
       "    <tr>\n",
       "      <th>4</th>\n",
       "      <td>2023-06-19</td>\n",
       "      <td>7</td>\n",
       "    </tr>\n",
       "    <tr>\n",
       "      <th>5</th>\n",
       "      <td>2023-06-20</td>\n",
       "      <td>26</td>\n",
       "    </tr>\n",
       "    <tr>\n",
       "      <th>0</th>\n",
       "      <td>2023-07-15</td>\n",
       "      <td>73</td>\n",
       "    </tr>\n",
       "    <tr>\n",
       "      <th>1</th>\n",
       "      <td>2023-07-16</td>\n",
       "      <td>79</td>\n",
       "    </tr>\n",
       "    <tr>\n",
       "      <th>2</th>\n",
       "      <td>2023-07-17</td>\n",
       "      <td>35</td>\n",
       "    </tr>\n",
       "    <tr>\n",
       "      <th>3</th>\n",
       "      <td>2023-07-18</td>\n",
       "      <td>21</td>\n",
       "    </tr>\n",
       "    <tr>\n",
       "      <th>4</th>\n",
       "      <td>2023-07-19</td>\n",
       "      <td>7</td>\n",
       "    </tr>\n",
       "    <tr>\n",
       "      <th>5</th>\n",
       "      <td>2023-07-20</td>\n",
       "      <td>26</td>\n",
       "    </tr>\n",
       "    <tr>\n",
       "      <th>0</th>\n",
       "      <td>2023-08-15</td>\n",
       "      <td>73</td>\n",
       "    </tr>\n",
       "    <tr>\n",
       "      <th>1</th>\n",
       "      <td>2023-08-16</td>\n",
       "      <td>79</td>\n",
       "    </tr>\n",
       "    <tr>\n",
       "      <th>2</th>\n",
       "      <td>2023-08-17</td>\n",
       "      <td>35</td>\n",
       "    </tr>\n",
       "    <tr>\n",
       "      <th>3</th>\n",
       "      <td>2023-08-18</td>\n",
       "      <td>21</td>\n",
       "    </tr>\n",
       "    <tr>\n",
       "      <th>4</th>\n",
       "      <td>2023-08-19</td>\n",
       "      <td>7</td>\n",
       "    </tr>\n",
       "    <tr>\n",
       "      <th>5</th>\n",
       "      <td>2023-08-20</td>\n",
       "      <td>26</td>\n",
       "    </tr>\n",
       "    <tr>\n",
       "      <th>0</th>\n",
       "      <td>2023-09-15</td>\n",
       "      <td>73</td>\n",
       "    </tr>\n",
       "    <tr>\n",
       "      <th>1</th>\n",
       "      <td>2023-09-16</td>\n",
       "      <td>79</td>\n",
       "    </tr>\n",
       "    <tr>\n",
       "      <th>2</th>\n",
       "      <td>2023-09-17</td>\n",
       "      <td>35</td>\n",
       "    </tr>\n",
       "    <tr>\n",
       "      <th>3</th>\n",
       "      <td>2023-09-18</td>\n",
       "      <td>21</td>\n",
       "    </tr>\n",
       "    <tr>\n",
       "      <th>4</th>\n",
       "      <td>2023-09-19</td>\n",
       "      <td>7</td>\n",
       "    </tr>\n",
       "    <tr>\n",
       "      <th>5</th>\n",
       "      <td>2023-09-20</td>\n",
       "      <td>26</td>\n",
       "    </tr>\n",
       "    <tr>\n",
       "      <th>0</th>\n",
       "      <td>2023-10-15</td>\n",
       "      <td>73</td>\n",
       "    </tr>\n",
       "    <tr>\n",
       "      <th>1</th>\n",
       "      <td>2023-10-16</td>\n",
       "      <td>79</td>\n",
       "    </tr>\n",
       "    <tr>\n",
       "      <th>2</th>\n",
       "      <td>2023-10-17</td>\n",
       "      <td>35</td>\n",
       "    </tr>\n",
       "    <tr>\n",
       "      <th>3</th>\n",
       "      <td>2023-10-18</td>\n",
       "      <td>21</td>\n",
       "    </tr>\n",
       "    <tr>\n",
       "      <th>4</th>\n",
       "      <td>2023-10-19</td>\n",
       "      <td>7</td>\n",
       "    </tr>\n",
       "    <tr>\n",
       "      <th>5</th>\n",
       "      <td>2023-10-20</td>\n",
       "      <td>26</td>\n",
       "    </tr>\n",
       "  </tbody>\n",
       "</table>\n",
       "</div>"
      ],
      "text/plain": [
       "  launch_date available_user_days\n",
       "0  2023-05-15                  73\n",
       "1  2023-05-16                  79\n",
       "2  2023-05-17                  35\n",
       "3  2023-05-18                  21\n",
       "4  2023-05-19                   7\n",
       "5  2023-05-20                  26\n",
       "0  2023-06-15                  73\n",
       "1  2023-06-16                  79\n",
       "2  2023-06-17                  35\n",
       "3  2023-06-18                  21\n",
       "4  2023-06-19                   7\n",
       "5  2023-06-20                  26\n",
       "0  2023-07-15                  73\n",
       "1  2023-07-16                  79\n",
       "2  2023-07-17                  35\n",
       "3  2023-07-18                  21\n",
       "4  2023-07-19                   7\n",
       "5  2023-07-20                  26\n",
       "0  2023-08-15                  73\n",
       "1  2023-08-16                  79\n",
       "2  2023-08-17                  35\n",
       "3  2023-08-18                  21\n",
       "4  2023-08-19                   7\n",
       "5  2023-08-20                  26\n",
       "0  2023-09-15                  73\n",
       "1  2023-09-16                  79\n",
       "2  2023-09-17                  35\n",
       "3  2023-09-18                  21\n",
       "4  2023-09-19                   7\n",
       "5  2023-09-20                  26\n",
       "0  2023-10-15                  73\n",
       "1  2023-10-16                  79\n",
       "2  2023-10-17                  35\n",
       "3  2023-10-18                  21\n",
       "4  2023-10-19                   7\n",
       "5  2023-10-20                  26"
      ]
     },
     "execution_count": 96,
     "metadata": {},
     "output_type": "execute_result"
    }
   ],
   "source": [
    "df = pd.concat([process_table(tbl) for tbl in tbl_lst])\n",
    "\n",
    "df"
   ]
  },
  {
   "cell_type": "code",
   "execution_count": 97,
   "id": "2ef64499",
   "metadata": {},
   "outputs": [
    {
     "data": {
      "text/plain": [
       "'retrieval_datetime=2023-05-09T06:20:42.765761'"
      ]
     },
     "execution_count": 97,
     "metadata": {},
     "output_type": "execute_result"
    }
   ],
   "source": [
    "partition_dir_nm = f\"retrieval_datetime={today.isoformat()}\"\n",
    "\n",
    "partition_dir_nm"
   ]
  },
  {
   "cell_type": "code",
   "execution_count": 100,
   "id": "872f9742",
   "metadata": {},
   "outputs": [
    {
     "data": {
      "text/plain": [
       "PosixPath('/Users/joel5174/projects/rogue-river-spaces-monitor/data/raw/rogue_retrieved_availability/retrieval_datetime=2023-05-09T06:20:42.765761')"
      ]
     },
     "execution_count": 100,
     "metadata": {},
     "output_type": "execute_result"
    }
   ],
   "source": [
    "out_pth = out_dir / partition_dir_nm\n",
    "\n",
    "out_pth"
   ]
  },
  {
   "cell_type": "code",
   "execution_count": 101,
   "id": "3d11dff2",
   "metadata": {},
   "outputs": [],
   "source": [
    "if not out_pth.exists():\n",
    "    out_pth.mkdir(parents=True)"
   ]
  },
  {
   "cell_type": "code",
   "execution_count": 104,
   "id": "114abc58",
   "metadata": {},
   "outputs": [
    {
     "data": {
      "text/plain": [
       "PosixPath('/Users/joel5174/projects/rogue-river-spaces-monitor/data/raw/rogue_retrieved_availability/retrieval_datetime=2023-05-09T06:20:42.765761/part-a29ba852f9864afa9e9a4c026346a6c9.csv')"
      ]
     },
     "execution_count": 104,
     "metadata": {},
     "output_type": "execute_result"
    }
   ],
   "source": [
    "out_prt = out_pth / f'part-{uuid4().hex}.csv'\n",
    "\n",
    "out_prt"
   ]
  },
  {
   "cell_type": "code",
   "execution_count": 105,
   "id": "3bd1c308",
   "metadata": {},
   "outputs": [],
   "source": [
    "df.to_csv(out_prt)"
   ]
  },
  {
   "cell_type": "code",
   "execution_count": null,
   "id": "a2d42a3e",
   "metadata": {},
   "outputs": [],
   "source": []
  }
 ],
 "metadata": {
  "kernelspec": {
   "display_name": "Python 3 (ipykernel)",
   "language": "python",
   "name": "python3"
  },
  "language_info": {
   "codemirror_mode": {
    "name": "ipython",
    "version": 3
   },
   "file_extension": ".py",
   "mimetype": "text/x-python",
   "name": "python",
   "nbconvert_exporter": "python",
   "pygments_lexer": "ipython3",
   "version": "3.9.16"
  }
 },
 "nbformat": 4,
 "nbformat_minor": 5
}
