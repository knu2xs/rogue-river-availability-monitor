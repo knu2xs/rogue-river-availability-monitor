{
 "cells": [
  {
   "cell_type": "code",
   "execution_count": 77,
   "id": "2b05f780",
   "metadata": {},
   "outputs": [],
   "source": [
    "from datetime import datetime, date\n",
    "\n",
    "from bs4 import BeautifulSoup\n",
    "import pandas as pd\n",
    "from pathlib import Path\n",
    "import requests"
   ]
  },
  {
   "cell_type": "code",
   "execution_count": 2,
   "id": "c2c8d86e",
   "metadata": {},
   "outputs": [],
   "source": [
    "url = \"https://www.blm.gov/or/resources/recreation/rogue/rogue_river.php\""
   ]
  },
  {
   "cell_type": "code",
   "execution_count": 41,
   "id": "d48dd42e",
   "metadata": {},
   "outputs": [],
   "source": [
    "dir_prj = Path.cwd().parent\n",
    "dir_data = dir_prj / 'data'\n",
    "dir_raw = dir_data / 'raw'"
   ]
  },
  {
   "cell_type": "code",
   "execution_count": 10,
   "id": "7ccd039e",
   "metadata": {},
   "outputs": [],
   "source": [
    "def get_row_values(tr):\n",
    "    td_lst = tr.find_all('td')\n",
    "    td_val_lst = [td.decode_contents() for td in td_lst]\n",
    "    return td_val_lst"
   ]
  },
  {
   "cell_type": "code",
   "execution_count": 11,
   "id": "8b598371",
   "metadata": {},
   "outputs": [],
   "source": [
    "def get_table_values(tbl):\n",
    "    val_lst = [get_row_values(tr) for tr in tbl.find_all('tr')]\n",
    "    val_lst = [r for r in val_lst if len(r) == 3]\n",
    "    val_lst = [r for r in val_lst if r != ['Day', 'Date', 'Spaces']]\n",
    "    return val_lst"
   ]
  },
  {
   "cell_type": "code",
   "execution_count": 73,
   "id": "f24fc647",
   "metadata": {},
   "outputs": [],
   "source": [
    "def process_table(tbl):\n",
    "\n",
    "    mth_str = tbl.find('th').decode_contents()\n",
    "\n",
    "    row_lst = get_table_values(tbl_lst[0])\n",
    "\n",
    "    out_lst = [[datetime.strptime(f'{int(r[1]):02d} {mth_str} {yr}', '%d %b %Y').isoformat(), r[2]] for r in row_lst]\n",
    "    \n",
    "    return out_lst"
   ]
  },
  {
   "cell_type": "code",
   "execution_count": 3,
   "id": "7e222910",
   "metadata": {},
   "outputs": [
    {
     "data": {
      "text/plain": [
       "<Response [200]>"
      ]
     },
     "execution_count": 3,
     "metadata": {},
     "output_type": "execute_result"
    }
   ],
   "source": [
    "res = requests.get(url)\n",
    "\n",
    "res"
   ]
  },
  {
   "cell_type": "code",
   "execution_count": 4,
   "id": "3cf4ce3f",
   "metadata": {},
   "outputs": [],
   "source": [
    "soup = BeautifulSoup(res.text, 'html.parser')"
   ]
  },
  {
   "cell_type": "code",
   "execution_count": 5,
   "id": "3615af71",
   "metadata": {},
   "outputs": [],
   "source": [
    "tbl_lst = [tbl for tbl in soup.find_all('table') if tbl.attrs['summary'].startswith(\"Available Float Space Openings\")]"
   ]
  },
  {
   "cell_type": "code",
   "execution_count": 68,
   "id": "b26bed19",
   "metadata": {},
   "outputs": [
    {
     "data": {
      "text/plain": [
       "2023"
      ]
     },
     "execution_count": 68,
     "metadata": {},
     "output_type": "execute_result"
    }
   ],
   "source": [
    "today = datetime.today()\n",
    "yr = today.year\n",
    "\n",
    "yr"
   ]
  },
  {
   "cell_type": "code",
   "execution_count": 75,
   "id": "9df298fe",
   "metadata": {},
   "outputs": [
    {
     "data": {
      "text/plain": [
       "[['2023-05-15T00:00:00', '73'],\n",
       " ['2023-05-16T00:00:00', '79'],\n",
       " ['2023-05-17T00:00:00', '35'],\n",
       " ['2023-05-18T00:00:00', '21'],\n",
       " ['2023-05-19T00:00:00', '7'],\n",
       " ['2023-05-20T00:00:00', '26']]"
      ]
     },
     "execution_count": 75,
     "metadata": {},
     "output_type": "execute_result"
    }
   ],
   "source": [
    "lst = process_table(tbl_lst[0])\n",
    "\n",
    "lst"
   ]
  },
  {
   "cell_type": "code",
   "execution_count": 79,
   "id": "9aa8dcc6",
   "metadata": {},
   "outputs": [
    {
     "data": {
      "text/html": [
       "<div>\n",
       "<style scoped>\n",
       "    .dataframe tbody tr th:only-of-type {\n",
       "        vertical-align: middle;\n",
       "    }\n",
       "\n",
       "    .dataframe tbody tr th {\n",
       "        vertical-align: top;\n",
       "    }\n",
       "\n",
       "    .dataframe thead th {\n",
       "        text-align: right;\n",
       "    }\n",
       "</style>\n",
       "<table border=\"1\" class=\"dataframe\">\n",
       "  <thead>\n",
       "    <tr style=\"text-align: right;\">\n",
       "      <th></th>\n",
       "      <th>launch_date</th>\n",
       "      <th>available_user_days</th>\n",
       "    </tr>\n",
       "  </thead>\n",
       "  <tbody>\n",
       "    <tr>\n",
       "      <th>0</th>\n",
       "      <td>2023-05-15T00:00:00</td>\n",
       "      <td>73</td>\n",
       "    </tr>\n",
       "    <tr>\n",
       "      <th>1</th>\n",
       "      <td>2023-05-16T00:00:00</td>\n",
       "      <td>79</td>\n",
       "    </tr>\n",
       "    <tr>\n",
       "      <th>2</th>\n",
       "      <td>2023-05-17T00:00:00</td>\n",
       "      <td>35</td>\n",
       "    </tr>\n",
       "    <tr>\n",
       "      <th>3</th>\n",
       "      <td>2023-05-18T00:00:00</td>\n",
       "      <td>21</td>\n",
       "    </tr>\n",
       "    <tr>\n",
       "      <th>4</th>\n",
       "      <td>2023-05-19T00:00:00</td>\n",
       "      <td>7</td>\n",
       "    </tr>\n",
       "    <tr>\n",
       "      <th>5</th>\n",
       "      <td>2023-05-20T00:00:00</td>\n",
       "      <td>26</td>\n",
       "    </tr>\n",
       "  </tbody>\n",
       "</table>\n",
       "</div>"
      ],
      "text/plain": [
       "           launch_date available_user_days\n",
       "0  2023-05-15T00:00:00                  73\n",
       "1  2023-05-16T00:00:00                  79\n",
       "2  2023-05-17T00:00:00                  35\n",
       "3  2023-05-18T00:00:00                  21\n",
       "4  2023-05-19T00:00:00                   7\n",
       "5  2023-05-20T00:00:00                  26"
      ]
     },
     "execution_count": 79,
     "metadata": {},
     "output_type": "execute_result"
    }
   ],
   "source": [
    "pd.DataFrame(lst, columns=['launch_date', 'available_user_days'])"
   ]
  },
  {
   "cell_type": "code",
   "execution_count": 70,
   "id": "13af827c",
   "metadata": {},
   "outputs": [
    {
     "data": {
      "text/plain": [
       "'retrieval_date=2023-05-09T06:20:42.765761'"
      ]
     },
     "execution_count": 70,
     "metadata": {},
     "output_type": "execute_result"
    }
   ],
   "source": [
    "partition_dir_nm = f\"retrieval_date={today.isoformat()}\"\n",
    "\n",
    "partition_dir_nm"
   ]
  },
  {
   "cell_type": "code",
   "execution_count": null,
   "id": "6795f0f4",
   "metadata": {},
   "outputs": [],
   "source": []
  }
 ],
 "metadata": {
  "kernelspec": {
   "display_name": "Python 3 (ipykernel)",
   "language": "python",
   "name": "python3"
  },
  "language_info": {
   "codemirror_mode": {
    "name": "ipython",
    "version": 3
   },
   "file_extension": ".py",
   "mimetype": "text/x-python",
   "name": "python",
   "nbconvert_exporter": "python",
   "pygments_lexer": "ipython3",
   "version": "3.9.16"
  }
 },
 "nbformat": 4,
 "nbformat_minor": 5
}
