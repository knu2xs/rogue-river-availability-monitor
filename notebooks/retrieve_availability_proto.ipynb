{
 "cells": [
  {
   "cell_type": "code",
   "execution_count": 1,
   "id": "e096aeb3",
   "metadata": {
    "ExecuteTime": {
     "end_time": "2023-05-31T16:38:39.288510Z",
     "start_time": "2023-05-31T16:38:38.949177Z"
    }
   },
   "outputs": [],
   "source": [
    "from datetime import datetime\n",
    "from uuid import uuid4\n",
    "\n",
    "from bs4 import BeautifulSoup\n",
    "import pandas as pd\n",
    "from pathlib import Path\n",
    "import requests"
   ]
  },
  {
   "cell_type": "code",
   "execution_count": 2,
   "id": "c221a778",
   "metadata": {
    "ExecuteTime": {
     "end_time": "2023-05-31T16:38:41.235515Z",
     "start_time": "2023-05-31T16:38:41.231223Z"
    }
   },
   "outputs": [],
   "source": [
    "url = \"https://www.blm.gov/or/resources/recreation/rogue/rogue_river.php\""
   ]
  },
  {
   "cell_type": "code",
   "execution_count": 3,
   "id": "76a5cbe5",
   "metadata": {
    "ExecuteTime": {
     "end_time": "2023-05-31T16:38:42.904029Z",
     "start_time": "2023-05-31T16:38:42.900279Z"
    }
   },
   "outputs": [],
   "source": [
    "dir_prj = Path.cwd().parent\n",
    "dir_data = dir_prj / 'data'\n",
    "dir_raw = dir_data / 'raw'\n",
    "\n",
    "out_dir = dir_raw / 'rogue_retrieved_availability'"
   ]
  },
  {
   "cell_type": "code",
   "execution_count": 10,
   "id": "37178eed",
   "metadata": {
    "ExecuteTime": {
     "end_time": "2023-05-31T16:41:09.596858Z",
     "start_time": "2023-05-31T16:41:09.594094Z"
    }
   },
   "outputs": [],
   "source": [
    "def get_row_values(tr):\n",
    "    td_lst = tr.find_all('td')\n",
    "    td_val_lst = [td.decode_contents() for td in td_lst]\n",
    "    return td_val_lst\n",
    "\n",
    "def get_table_values(tbl):\n",
    "    val_lst = [get_row_values(tr) for tr in tbl.find_all('tr')]\n",
    "    val_lst = [r for r in val_lst if len(r) == 3]\n",
    "    val_lst = [r for r in val_lst if r != ['Day', 'Date', 'Spaces']]\n",
    "    return val_lst\n",
    "\n",
    "def process_table(tbl):\n",
    "\n",
    "    mth_str = tbl.find('th').decode_contents()\n",
    "    \n",
    "    row_lst = get_table_values(tbl)\n",
    "\n",
    "    out_lst = [[datetime.strptime(f'{int(r[1]):02d} {mth_str} {yr}', '%d %B %Y').date().isoformat(), r[2]] for r in row_lst]\n",
    "    \n",
    "    out_df = pd.DataFrame(out_lst, columns=['launch_date', 'available_user_days'])\n",
    "    \n",
    "    return out_df"
   ]
  },
  {
   "cell_type": "code",
   "execution_count": 5,
   "id": "bc566c05",
   "metadata": {
    "ExecuteTime": {
     "end_time": "2023-05-31T16:38:45.366578Z",
     "start_time": "2023-05-31T16:38:45.082324Z"
    }
   },
   "outputs": [
    {
     "data": {
      "text/plain": "<Response [200]>"
     },
     "execution_count": 5,
     "metadata": {},
     "output_type": "execute_result"
    }
   ],
   "source": [
    "res = requests.get(url)\n",
    "\n",
    "res"
   ]
  },
  {
   "cell_type": "code",
   "execution_count": 6,
   "id": "e4b370ae",
   "metadata": {
    "ExecuteTime": {
     "end_time": "2023-05-31T16:38:46.526470Z",
     "start_time": "2023-05-31T16:38:46.522650Z"
    }
   },
   "outputs": [],
   "source": [
    "soup = BeautifulSoup(res.text, 'html.parser')"
   ]
  },
  {
   "cell_type": "code",
   "execution_count": 11,
   "id": "55d4b923",
   "metadata": {
    "ExecuteTime": {
     "end_time": "2023-05-31T16:41:15.208799Z",
     "start_time": "2023-05-31T16:41:15.204823Z"
    }
   },
   "outputs": [],
   "source": [
    "tbl_lst = [tbl for tbl in soup.find_all('table') if tbl.attrs['summary'].startswith(\"Available Float Space Openings\")]"
   ]
  },
  {
   "cell_type": "code",
   "execution_count": 12,
   "id": "6ec89373",
   "metadata": {
    "ExecuteTime": {
     "end_time": "2023-05-31T16:41:16.077616Z",
     "start_time": "2023-05-31T16:41:16.073140Z"
    }
   },
   "outputs": [
    {
     "data": {
      "text/plain": "2023"
     },
     "execution_count": 12,
     "metadata": {},
     "output_type": "execute_result"
    }
   ],
   "source": [
    "today = datetime.today()\n",
    "yr = today.year\n",
    "\n",
    "yr"
   ]
  },
  {
   "cell_type": "code",
   "execution_count": 13,
   "id": "bd39fdc2",
   "metadata": {
    "ExecuteTime": {
     "end_time": "2023-05-31T16:41:16.893599Z",
     "start_time": "2023-05-31T16:41:16.887188Z"
    }
   },
   "outputs": [
    {
     "data": {
      "text/plain": "  launch_date available_user_days\n0  2023-05-31                  64\n0  2023-06-01                  12\n1  2023-06-02                  22\n2  2023-06-03                  10\n3  2023-06-04                  11\n4  2023-06-08                  22\n5  2023-06-11                   1\n6  2023-06-15                   1",
      "text/html": "<div>\n<style scoped>\n    .dataframe tbody tr th:only-of-type {\n        vertical-align: middle;\n    }\n\n    .dataframe tbody tr th {\n        vertical-align: top;\n    }\n\n    .dataframe thead th {\n        text-align: right;\n    }\n</style>\n<table border=\"1\" class=\"dataframe\">\n  <thead>\n    <tr style=\"text-align: right;\">\n      <th></th>\n      <th>launch_date</th>\n      <th>available_user_days</th>\n    </tr>\n  </thead>\n  <tbody>\n    <tr>\n      <th>0</th>\n      <td>2023-05-31</td>\n      <td>64</td>\n    </tr>\n    <tr>\n      <th>0</th>\n      <td>2023-06-01</td>\n      <td>12</td>\n    </tr>\n    <tr>\n      <th>1</th>\n      <td>2023-06-02</td>\n      <td>22</td>\n    </tr>\n    <tr>\n      <th>2</th>\n      <td>2023-06-03</td>\n      <td>10</td>\n    </tr>\n    <tr>\n      <th>3</th>\n      <td>2023-06-04</td>\n      <td>11</td>\n    </tr>\n    <tr>\n      <th>4</th>\n      <td>2023-06-08</td>\n      <td>22</td>\n    </tr>\n    <tr>\n      <th>5</th>\n      <td>2023-06-11</td>\n      <td>1</td>\n    </tr>\n    <tr>\n      <th>6</th>\n      <td>2023-06-15</td>\n      <td>1</td>\n    </tr>\n  </tbody>\n</table>\n</div>"
     },
     "execution_count": 13,
     "metadata": {},
     "output_type": "execute_result"
    }
   ],
   "source": [
    "df = pd.concat([process_table(tbl) for tbl in tbl_lst])\n",
    "\n",
    "df"
   ]
  },
  {
   "cell_type": "code",
   "execution_count": 14,
   "id": "2ef64499",
   "metadata": {
    "ExecuteTime": {
     "end_time": "2023-05-31T16:41:38.822869Z",
     "start_time": "2023-05-31T16:41:38.816394Z"
    }
   },
   "outputs": [
    {
     "data": {
      "text/plain": "'retrieval_datetime=2023-05-31T09:41:16.071591'"
     },
     "execution_count": 14,
     "metadata": {},
     "output_type": "execute_result"
    }
   ],
   "source": [
    "partition_dir_nm = f\"retrieval_datetime={today.isoformat()}\"\n",
    "\n",
    "partition_dir_nm"
   ]
  },
  {
   "cell_type": "code",
   "execution_count": 15,
   "id": "872f9742",
   "metadata": {
    "ExecuteTime": {
     "end_time": "2023-05-31T16:41:41.984695Z",
     "start_time": "2023-05-31T16:41:41.978913Z"
    }
   },
   "outputs": [
    {
     "data": {
      "text/plain": "PosixPath('/Users/joel5174/projects/rogue-river-spaces-monitor/data/raw/rogue_retrieved_availability/retrieval_datetime=2023-05-31T09:41:16.071591')"
     },
     "execution_count": 15,
     "metadata": {},
     "output_type": "execute_result"
    }
   ],
   "source": [
    "out_pth = out_dir / partition_dir_nm\n",
    "\n",
    "out_pth"
   ]
  },
  {
   "cell_type": "code",
   "execution_count": 16,
   "id": "3d11dff2",
   "metadata": {
    "ExecuteTime": {
     "end_time": "2023-05-31T16:41:43.312794Z",
     "start_time": "2023-05-31T16:41:43.306129Z"
    }
   },
   "outputs": [],
   "source": [
    "if not out_pth.exists():\n",
    "    out_pth.mkdir(parents=True)"
   ]
  },
  {
   "cell_type": "code",
   "execution_count": 17,
   "id": "114abc58",
   "metadata": {
    "ExecuteTime": {
     "end_time": "2023-05-31T16:41:50.306614Z",
     "start_time": "2023-05-31T16:41:50.302663Z"
    }
   },
   "outputs": [
    {
     "data": {
      "text/plain": "PosixPath('/Users/joel5174/projects/rogue-river-spaces-monitor/data/raw/rogue_retrieved_availability/retrieval_datetime=2023-05-31T09:41:16.071591/part-4242dc8a611d435cb337d09eb1adac5c.csv')"
     },
     "execution_count": 17,
     "metadata": {},
     "output_type": "execute_result"
    }
   ],
   "source": [
    "out_prt = out_pth / f'part-{uuid4().hex}.csv'\n",
    "\n",
    "out_prt"
   ]
  },
  {
   "cell_type": "code",
   "execution_count": 19,
   "id": "3bd1c308",
   "metadata": {
    "ExecuteTime": {
     "end_time": "2023-05-31T16:42:57.981426Z",
     "start_time": "2023-05-31T16:42:57.978763Z"
    }
   },
   "outputs": [],
   "source": [
    "df.to_csv(out_prt, index=False)"
   ]
  },
  {
   "cell_type": "code",
   "execution_count": null,
   "id": "a2d42a3e",
   "metadata": {},
   "outputs": [],
   "source": []
  }
 ],
 "metadata": {
  "kernelspec": {
   "display_name": "Python 3 (ipykernel)",
   "language": "python",
   "name": "python3"
  },
  "language_info": {
   "codemirror_mode": {
    "name": "ipython",
    "version": 3
   },
   "file_extension": ".py",
   "mimetype": "text/x-python",
   "name": "python",
   "nbconvert_exporter": "python",
   "pygments_lexer": "ipython3",
   "version": "3.9.16"
  }
 },
 "nbformat": 4,
 "nbformat_minor": 5
}
